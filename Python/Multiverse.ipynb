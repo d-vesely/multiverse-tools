{
 "cells": [
  {
   "cell_type": "markdown",
   "metadata": {},
   "source": [
    "# Multiverse Meta-Analysis\n",
    "\n",
    "This notebook contains all code required for **Multiverse Meta-Analyses**, including the generation of specifications, bootstrap data, and visualizations."
   ]
  },
  {
   "cell_type": "markdown",
   "metadata": {},
   "source": [
    "## Imports"
   ]
  },
  {
   "cell_type": "code",
   "execution_count": null,
   "metadata": {},
   "outputs": [],
   "source": [
    "import numpy as np\n",
    "import pandas as pd\n",
    "\n",
    "from bootstrap import generate_boot_data\n",
    "from config import read_config\n",
    "from data import prepare_data\n",
    "from plotting import (get_cluster_fill_data, get_spec_fill_data,\n",
    "                      get_colors, plot_treemap, plot_multiverse,\n",
    "                      plot_caterpillar, plot_sample_size, plot_cluster_size,\n",
    "                      plot_spec_tiles, plot_cluster_tiles, plot_inferential,\n",
    "                      plot_p_hist)\n",
    "from specs import generate_specs\n",
    "from user_data import preprocess_data\n",
    "\n",
    "import plotly.io as pio\n",
    "pio.renderers.default = \"plotly_mimetype+notebook\""
   ]
  },
  {
   "cell_type": "code",
   "execution_count": null,
   "metadata": {},
   "outputs": [],
   "source": [
    "%load_ext autoreload\n",
    "%autoreload 2"
   ]
  },
  {
   "cell_type": "markdown",
   "metadata": {},
   "source": [
    "## Dashboard\n",
    "\n",
    "The interactive Dashboard can be launched from this notebook."
   ]
  },
  {
   "cell_type": "code",
   "execution_count": null,
   "metadata": {},
   "outputs": [],
   "source": [
    "%run -i \"./dashboard.py\""
   ]
  },
  {
   "cell_type": "markdown",
   "metadata": {},
   "source": [
    "## Constants\n",
    "\n",
    "In this cell, set the **title**, the **working directory** and the **path to the dataset** for this analysis. The **config**, **preprocessed data**, **specs**, and **bootstrap data** paths depend on the working directory and the title. This naming convention can be changed, but the prefixes (i.e. `boot`, `config`, `data` and `specs`) are required for the **Dashboard** to work. The configuration file must exist, all other data can either be loaded or generated, using the boolean flags. The generated data will be stored at the specified paths, or loaded from that path."
   ]
  },
  {
   "cell_type": "code",
   "execution_count": null,
   "metadata": {},
   "outputs": [],
   "source": [
    "# TITLE = \"R2D4D_2\"\n",
    "# DIR = \"../examples/R2D4D\"\n",
    "# DATA_PATH = f\"{DIR}/R2D4D.csv\"\n",
    "\n",
    "# TITLE = \"Chernobyl_3\"\n",
    "# DIR = \"../examples/Chernobyl\"\n",
    "# DATA_PATH = f\"{DIR}/Chernobyl.rda\"\n",
    "\n",
    "TITLE = \"IandR_3\"\n",
    "DIR = \"../examples/IandR\"\n",
    "DATA_PATH = f\"{DIR}/iandr.sav\"\n",
    "\n",
    "PREPROCESS_DATA = True # Load of preprocess data\n",
    "GENERATE_SPECS = True # Load or generate specs\n",
    "GENERATE_BOOTDATA = True # Load or generate boot data\n",
    "\n",
    "PP_DATA_PATH = f\"{DIR}/data_{TITLE}.csv\"\n",
    "CONFIG_PATH = f\"{DIR}/config_{TITLE}.json\"\n",
    "SPECS_PATH = f\"{DIR}/specs_{TITLE}.csv\"\n",
    "BOOT_PATH = f\"{DIR}/boot_{TITLE}.csv\""
   ]
  },
  {
   "cell_type": "markdown",
   "metadata": {},
   "source": [
    "## Configuration\n",
    "\n",
    "In this cell, the configuration file is processed. The cell prints out the parsed configuration, so the user can double-check if the result is as expected."
   ]
  },
  {
   "cell_type": "code",
   "execution_count": null,
   "metadata": {},
   "outputs": [],
   "source": [
    "config = read_config(path=CONFIG_PATH)\n",
    "if config is not None:\n",
    "    c_info = [\n",
    "        f\"{config['level']} - Level Meta-Analysis\",\n",
    "        f\"   Minimum Nr. of Samples to include Specification: {config['k_min']}\",\n",
    "        f\"   Bootstrap Iterations: {config['n_boot_iter']}\",\n",
    "        f\"   {config['n_which']} Which-Factors:\",\n",
    "        *[f\"     {k} : {(', ').join(v)}\" for k, v in config['which_lists'].items()],\n",
    "        f\"   {config['n_how']} How-Factors:\",\n",
    "        *[f\"     {k} : {(', ').join(v)}\" for k, v in config['how_lists'].items()],\n",
    "        f\"   Labels\",\n",
    "        *[f\"     {l}\" for l in config['labels']],\n",
    "        f\"   Column-Map\",\n",
    "        *[f\"     {k} : {v}\" for k, v in config['colmap'].items()]\n",
    "    ]\n",
    "    print((\"\\n\").join(c_info))"
   ]
  },
  {
   "cell_type": "markdown",
   "metadata": {},
   "source": [
    "## Preprocess and Prepare Data\n",
    "\n",
    "In this cell, the dataset is either preprocessed and stored at `PP_DATA_PATH`, or the preprocessed dataset is loaded from `PP_DATA_PATH`. The cell prints out the head and the dimensions of the data. If preprocessing is desired, the function `preprocess_data()` must be defined by the user, in the file `user_data.R`."
   ]
  },
  {
   "cell_type": "code",
   "execution_count": null,
   "metadata": {},
   "outputs": [],
   "source": [
    "if PREPROCESS_DATA:\n",
    "    ma_data = preprocess_data(DATA_PATH, title=TITLE)\n",
    "else:\n",
    "    ma_data = pd.read_csv(PP_DATA_PATH)\n",
    "print(f\"Data Shape: {ma_data.shape}\")\n",
    "ma_data.head()"
   ]
  },
  {
   "cell_type": "markdown",
   "metadata": {},
   "source": [
    "In this cell, the preprocessed dataset is prepared for meta-analysis. Preparation adds **cluster-** and **effect- IDs**, sets datatypes, etc.. For details, consult the function documentation of `prepareData()`. The cell prints out the head and the dimensions of the prepared data."
   ]
  },
  {
   "cell_type": "code",
   "execution_count": null,
   "metadata": {},
   "outputs": [],
   "source": [
    "data = prepare_data(config[\"colmap\"], data=ma_data)\n",
    "print(f\"Data Shape: {data.shape}\")\n",
    "data.head()"
   ]
  },
  {
   "cell_type": "markdown",
   "metadata": {},
   "source": [
    "## Specifications\n",
    "\n",
    "In this cell, the specifications are either generated and stored at `SPECS_PATH`, or loaded from `SPECS_PATH`. For details, consult the function documentation of `generate_specs()`."
   ]
  },
  {
   "cell_type": "code",
   "execution_count": null,
   "metadata": {},
   "outputs": [],
   "source": [
    "if GENERATE_SPECS:\n",
    "    specs = generate_specs(\n",
    "        data,\n",
    "        config[\"which_lists\"],\n",
    "        config[\"how_lists\"],\n",
    "        config[\"colmap\"],\n",
    "        config[\"k_min\"],\n",
    "        config[\"level\"],\n",
    "        SPECS_PATH\n",
    "    )\n",
    "else:\n",
    "    specs = pd.read_csv(SPECS_PATH)\n",
    "print(specs.shape)\n",
    "specs.head()"
   ]
  },
  {
   "cell_type": "markdown",
   "metadata": {},
   "source": [
    "## Bootstrap Data\n",
    "\n",
    "In this cell, the bootstrap data is either generated and stored at `BOOT_PATH`, or loaded from `BOOT_PATH`. For details, consult the function documentation of `generate_boot_data()`."
   ]
  },
  {
   "cell_type": "code",
   "execution_count": null,
   "metadata": {},
   "outputs": [],
   "source": [
    "if GENERATE_BOOTDATA:\n",
    "    boot_data = generate_boot_data(\n",
    "        specs,\n",
    "        config[\"n_boot_iter\"],\n",
    "        data,\n",
    "        config[\"colmap\"],\n",
    "        config[\"level\"],\n",
    "        BOOT_PATH\n",
    "    )\n",
    "else:\n",
    "    boot_data = pd.read_csv(BOOT_PATH)\n",
    "print(boot_data.shape)\n",
    "boot_data.head()"
   ]
  },
  {
   "cell_type": "markdown",
   "metadata": {},
   "source": [
    "## Plotting\n",
    "\n",
    "In this cell, the **cluster-** and **specification-** fill data for the respective tile maps is prepared, as well as the list of colors that constitute the color scheme. For details, consult the respective function documentation."
   ]
  },
  {
   "cell_type": "code",
   "execution_count": null,
   "metadata": {},
   "outputs": [],
   "source": [
    "cluster_fill_data = get_cluster_fill_data(\n",
    "    data,\n",
    "    specs,\n",
    "    config[\"colmap\"]\n",
    ")\n",
    "spec_fill_data = get_spec_fill_data(\n",
    "    config[\"n_which\"],\n",
    "    config[\"which_lists\"],\n",
    "    config[\"n_how\"],\n",
    "    config[\"how_lists\"],\n",
    "    specs\n",
    ")\n",
    "fill_levels = len(np.unique([v for v in spec_fill_data.values()]))\n",
    "colors = get_colors(fill_levels)"
   ]
  },
  {
   "cell_type": "markdown",
   "metadata": {},
   "source": [
    "Here we define important variables for plotting that will be reused in several plots, to improve readability."
   ]
  },
  {
   "cell_type": "code",
   "execution_count": null,
   "metadata": {},
   "outputs": [],
   "source": [
    "colmap = config[\"colmap\"]\n",
    "k_range = [config[\"k_min\"], max(specs[\"k\"])]\n",
    "labels = config[\"labels\"]\n",
    "level = config[\"level\"]\n",
    "n_total_specs = len(specs)\n",
    "title = config[\"title\"]"
   ]
  },
  {
   "cell_type": "markdown",
   "metadata": {},
   "source": [
    "### Treemap\n",
    "\n",
    "Treemap of the meta-analytic dataset. It visualizes each study and the reported effect size, with the colors indicating the size of the study sample size `N` (hot colors for low, cold colors for high sample sizes). If studies report multiple effect sizes, the size of each study's tile corresponds to the amount of reported effect sizes. The tile's color indicates the average sample size of the reported effects."
   ]
  },
  {
   "cell_type": "code",
   "execution_count": null,
   "metadata": {},
   "outputs": [],
   "source": [
    "treemap = plot_treemap(data, title, colmap)\n",
    "treemap.show()"
   ]
  },
  {
   "cell_type": "markdown",
   "metadata": {},
   "source": [
    "### Inferential Specification Plot"
   ]
  },
  {
   "cell_type": "code",
   "execution_count": null,
   "metadata": {},
   "outputs": [],
   "source": [
    "fig_inferential = plot_inferential(boot_data, title, n_total_specs)\n",
    "fig_inferential.show()"
   ]
  },
  {
   "cell_type": "markdown",
   "metadata": {},
   "source": [
    "### p-Value Histogram"
   ]
  },
  {
   "cell_type": "code",
   "execution_count": null,
   "metadata": {},
   "outputs": [],
   "source": [
    "fig_p_hist = plot_p_hist(specs, title, n_total_specs)\n",
    "fig_p_hist.show()"
   ]
  },
  {
   "cell_type": "markdown",
   "metadata": {},
   "source": [
    "### Multiverse"
   ]
  },
  {
   "cell_type": "code",
   "execution_count": null,
   "metadata": {},
   "outputs": [],
   "source": [
    "fig = plot_multiverse(\n",
    "    specs,\n",
    "    n_total_specs,\n",
    "    k_range,\n",
    "    cluster_fill_data,\n",
    "    spec_fill_data,\n",
    "    labels,\n",
    "    colors,\n",
    "    config[\"level\"],\n",
    "    title,\n",
    "    fill_levels\n",
    ")\n",
    "fig.show()\n",
    "\n",
    "# fig.write_image(\"multiverse.pdf\")\n",
    "# fig.write_image(\"multiverse.pdf\", width=1000, height=1500)"
   ]
  },
  {
   "cell_type": "markdown",
   "metadata": {},
   "source": [
    "### Individual Multiverse Components"
   ]
  },
  {
   "cell_type": "code",
   "execution_count": null,
   "metadata": {},
   "outputs": [],
   "source": [
    "fig_cluster_tiles = plot_cluster_tiles(specs, cluster_fill_data, n_total_specs, title)\n",
    "fig_cluster_tiles.show()"
   ]
  },
  {
   "cell_type": "code",
   "execution_count": null,
   "metadata": {},
   "outputs": [],
   "source": [
    "fig_caterpillar = plot_caterpillar(specs, n_total_specs, colors, k_range, title, fill_levels)\n",
    "fig_caterpillar.show()"
   ]
  },
  {
   "cell_type": "code",
   "execution_count": null,
   "metadata": {},
   "outputs": [],
   "source": [
    "fig_cluster_size = plot_cluster_size(specs, k_range, n_total_specs, title)\n",
    "fig_cluster_size.show()"
   ]
  },
  {
   "cell_type": "code",
   "execution_count": null,
   "metadata": {},
   "outputs": [],
   "source": [
    "fig_sample_size = plot_sample_size(specs, k_range, n_total_specs, title)\n",
    "fig_sample_size.show()"
   ]
  },
  {
   "cell_type": "code",
   "execution_count": null,
   "metadata": {},
   "outputs": [],
   "source": [
    "fig_spec_tiles = plot_spec_tiles(specs, n_total_specs, spec_fill_data, labels, colors, k_range, title, fill_levels)\n",
    "fig_spec_tiles.show()"
   ]
  }
 ],
 "metadata": {
  "kernelspec": {
   "display_name": "idp",
   "language": "python",
   "name": "python3"
  },
  "language_info": {
   "codemirror_mode": {
    "name": "ipython",
    "version": 3
   },
   "file_extension": ".py",
   "mimetype": "text/x-python",
   "name": "python",
   "nbconvert_exporter": "python",
   "pygments_lexer": "ipython3",
   "version": "3.7.1"
  },
  "orig_nbformat": 4
 },
 "nbformat": 4,
 "nbformat_minor": 2
}
